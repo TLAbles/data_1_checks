{
 "cells": [
  {
   "cell_type": "markdown",
   "id": "2926ea04",
   "metadata": {},
   "source": [
    "# A Brief Look at Some FBI Art Crimes  "
   ]
  },
  {
   "cell_type": "code",
   "execution_count": null,
   "id": "aaeca490",
   "metadata": {},
   "outputs": [],
   "source": [
    "# packages to import and why \n",
    "import numpy as np # linear algebra\n",
    "import pandas as pd # data processing\n",
    "import matplotlib.pyplot as plt #data visualization\n",
    "import seaborn as sns #also data visualization \n",
    "import requests  \n",
    "import json\n",
    "%matplotlib inline "
   ]
  },
  {
   "cell_type": "code",
   "execution_count": null,
   "id": "57e0409b",
   "metadata": {},
   "outputs": [],
   "source": [
    "#API for art crimes \n",
    "r = requests.get('https://api.fbi.gov/@artcrimes?pageSize=50&page=1&sort_on=modified&sort_order=desc')\n",
    "\n",
    "\n",
    "print(r.json())"
   ]
  },
  {
   "cell_type": "code",
   "execution_count": null,
   "id": "57d44123",
   "metadata": {},
   "outputs": [],
   "source": [
    "#pretty print this so it's not a whole unreadable mess to see what the data looks like \n",
    "\n",
    "def jprint(obj):\n",
    "    # make this info more readable \n",
    "    text = json.dumps(obj, sort_keys=True, indent=4)\n",
    "    print(text)\n",
    "\n",
    "jprint(r.json())"
   ]
  },
  {
   "cell_type": "code",
   "execution_count": null,
   "id": "339a3468",
   "metadata": {
    "scrolled": false
   },
   "outputs": [],
   "source": [
    "#only want some info from the items section\n",
    "items = r.json()['items']\n",
    "jprint(items)"
   ]
  },
  {
   "cell_type": "code",
   "execution_count": null,
   "id": "3e4df506",
   "metadata": {},
   "outputs": [],
   "source": [
    "#make these nested dictionaries into a df \n",
    "artheist = pd.json_normalize(items)\n",
    "artheist.head()"
   ]
  },
  {
   "cell_type": "code",
   "execution_count": null,
   "id": "eec07b00",
   "metadata": {},
   "outputs": [],
   "source": [
    "# what are the column names so I can get rid of some of them \n",
    "artheist.columns"
   ]
  },
  {
   "cell_type": "code",
   "execution_count": null,
   "id": "a988f6cf",
   "metadata": {},
   "outputs": [],
   "source": [
    " #Now get rid of them \n",
    "artheist.drop([\"url\", \"measurements\", \"path\", \"additionalData\", \"uid\", \"isStealth\", \"idInAgency\", \"maker\", \"images\", \"modified\", \"@id\"], axis = 1, inplace = True)\n",
    "\n",
    "artheist.head()"
   ]
  },
  {
   "cell_type": "code",
   "execution_count": null,
   "id": "3476d4b0",
   "metadata": {},
   "outputs": [],
   "source": [
    "#reorder so this isn't ugly \n",
    "artheist = artheist.reindex(columns = ['title', 'materials', 'period', 'description', 'crimeCategory'])\n",
    "artheist.head()"
   ]
  },
  {
   "cell_type": "code",
   "execution_count": null,
   "id": "196cca38",
   "metadata": {},
   "outputs": [],
   "source": [
    "#Describe this dataframe now. How big is it?\n",
    "artheist.shape"
   ]
  },
  {
   "cell_type": "code",
   "execution_count": null,
   "id": "96e29efb",
   "metadata": {},
   "outputs": [],
   "source": [
    "#find unique period values\n",
    "artheist.period.unique()"
   ]
  },
  {
   "cell_type": "code",
   "execution_count": null,
   "id": "5ae1ad68",
   "metadata": {},
   "outputs": [],
   "source": [
    "#how many of each unique crime category \n",
    "artheist.crimeCategory.value_counts()"
   ]
  },
  {
   "cell_type": "code",
   "execution_count": null,
   "id": "ba33cc0c",
   "metadata": {},
   "outputs": [],
   "source": [
    "#Do a query\n",
    "\n",
    "value = \"books\"\n",
    "bookheist = artheist.query('crimeCategory == @value')\n",
    "bookheist"
   ]
  },
  {
   "cell_type": "code",
   "execution_count": null,
   "id": "cb207883",
   "metadata": {},
   "outputs": [],
   "source": [
    "#maybe a more complex query of all jewelry related crimes if the spirit so compels \n",
    "jewelheist = artheist.query(\"crimeCategory in ('rings', 'brooches-and-pins', 'other-jewelry', 'other,jewelry')\")\n",
    "jewelheist"
   ]
  },
  {
   "cell_type": "code",
   "execution_count": null,
   "id": "97ad22dc",
   "metadata": {
    "scrolled": false
   },
   "outputs": [],
   "source": [
    "#select and print columns 2 and 3 \n",
    "print(artheist.iloc[:,[1,2]])\n"
   ]
  },
  {
   "cell_type": "code",
   "execution_count": null,
   "id": "05e7aac4",
   "metadata": {},
   "outputs": [],
   "source": [
    "#select and print first 4 rows \n",
    "artheist.head(4)"
   ]
  }
 ],
 "metadata": {
  "kernelspec": {
   "display_name": "Python 3 (ipykernel)",
   "language": "python",
   "name": "python3"
  },
  "language_info": {
   "codemirror_mode": {
    "name": "ipython",
    "version": 3
   },
   "file_extension": ".py",
   "mimetype": "text/x-python",
   "name": "python",
   "nbconvert_exporter": "python",
   "pygments_lexer": "ipython3",
   "version": "3.9.7"
  }
 },
 "nbformat": 4,
 "nbformat_minor": 5
}
